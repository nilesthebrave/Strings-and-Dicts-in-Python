{
 "cells": [
  {
   "cell_type": "markdown",
   "metadata": {},
   "source": [
    "<img src=\"https://datasciencedegree.wisconsin.edu/wp-content/themes/data-gulp/images/logo.svg\" width=\"300\">\n"
   ]
  },
  {
   "cell_type": "markdown",
   "metadata": {},
   "source": [
    "# Assignment 5\n",
    "\n",
    "This assignment builds on the previous Python content to write two fairly nontrivial programs: \n",
    "1. implementing the English language game of Piglatin\n",
    "2. counting all instances of each letter in a text file\n",
    "\n",
    "-----"
   ]
  },
  {
   "cell_type": "markdown",
   "metadata": {},
   "source": [
    "## Problem 1.  Pig latin.\n",
    "\n",
    "In [Pig Latin](https://en.wikipedia.org/wiki/Pig_Latin), English words are transformed according to the following rules:\n",
    "\n",
    "* If the word begins with one or more consonants, those consonants are moved to the end of the word, followed by \"ay\":\n",
    "\n",
    "  * pig -> igpay\n",
    "  * Latin -> Atinlay\n",
    "  * trash -> ashtray\n",
    "\n",
    "* If the word begins with \"qu\", both of these letters are moved to the end of the word, followed by \"ay\":\n",
    "\n",
    "  * quarter -> arterquay\n",
    "  \n",
    "* If the word begins with a vowel, it is followed by \"yay\":\n",
    "\n",
    "  * apple -> appleyay\n",
    "  * out -> outyay.\n",
    "  \n",
    "\n",
    "Note that \n",
    "* more than one consonant may be moved to the end of the word. \n",
    "* \"y\" functions as a consonant at the start of words. \n",
    "* capitalization should be preserved after manipulating the word. \n"
   ]
  },
  {
   "cell_type": "markdown",
   "metadata": {},
   "source": [
    "### Problem 1(a). Implementation.\n",
    "\n",
    "🎯 Write Python code that takes a word and converts it to Pig Latin.  If the input consists of multiple words or contains punctuation, your code should print a suitable error message. \n",
    "\n",
    "We want you to solve this problem from \"first principles,\" using what you learned about strings in lesson 5.  Do **not** use the **re** module or other regular expressions in this problem.\n",
    "\n",
    "###### Tips\n",
    "\n",
    "* If you write your piglatin code as a [function](https://www.tutorialspoint.com/python/python_functions.htm), then you'll be able to re-use it in part b!  Not required, just suggested, since it reduces code duplication and enhances readability."
   ]
  },
  {
   "cell_type": "code",
   "execution_count": 1,
   "metadata": {},
   "outputs": [],
   "source": [
    "# Function to translate string into pig latin\n",
    "def Translate(word):\n",
    "    # list of vowels to check against\n",
    "    vowels = ['a','e','i','o','u']\n",
    "    # Check to see if first character is a capital letter\n",
    "    upperCheck = False\n",
    "    beginning = word[0]\n",
    "    # In case of 'Q' make sure a 'u' follows\n",
    "    if len(word) > 1:\n",
    "        uCheck = word[1]\n",
    "    # Check to make sure that only letters are in input\n",
    "    if word.isalpha() == False:\n",
    "        return(\"Error: Use only letters\")\n",
    "    # Check to see if the first character is a capital letter\n",
    "    if beginning.isupper():\n",
    "        upperCheck = True\n",
    "    # Check if first character is in vowels\n",
    "    if beginning in vowels:\n",
    "        word = word + \"yay\"\n",
    "    # Check if first character is a q or Q followed by u or U\n",
    "    elif beginning in (\"q\",\"Q\"):\n",
    "        if uCheck in (\"u\",\"U\"):\n",
    "            word = word[2:] + \"quay\"\n",
    "            if upperCheck == True:\n",
    "                word = word.capitalize()\n",
    "    # For all other cases\n",
    "    else:\n",
    "        while word[0] not in vowels:\n",
    "            word = word[1:] + word[0]\n",
    "        word = word + \"ay\"\n",
    "        if upperCheck == True:\n",
    "            word = word.capitalize()\n",
    "    return word"
   ]
  },
  {
   "cell_type": "markdown",
   "metadata": {},
   "source": [
    "# Problem 1(b). Test Suite.\n",
    "\n",
    "🎯 Test your code on the following words, and be sure your output matches what is shown on the right hand side of each arrow. Print the results of each test. If your output does not match, then fix your code in 1(a). \n",
    "\n",
    "    * orange -> orangeyay\n",
    "    * yellow -> ellowyay\n",
    "    * Strip -> Ipstray\n",
    "    * quarter -> arterquay\n",
    "    * schmooze -> oozeschmay\n",
    "    * a -> ayay\n",
    "    * Pig Latin -> (should produce an error message, `sys.exit` is forbidden)\n",
    "    * Ke$ha -> (should produce an error message)\n",
    "    \n",
    "If you wrote a function for 1(a), you can just call it on these test strings.  The function `assert` can be used to help do the checks.\n",
    "    "
   ]
  },
  {
   "cell_type": "code",
   "execution_count": 2,
   "metadata": {},
   "outputs": [],
   "source": [
    "# Ran out of time to make this its own function\n",
    "assert(Translate(\"orange\") == \"orangeyay\")\n",
    "assert(Translate(\"yellow\") == \"ellowyay\")\n",
    "assert(Translate(\"Strip\") == \"Ipstray\")\n",
    "assert(Translate(\"quarter\") == \"arterquay\")\n",
    "assert(Translate(\"schmooze\") == \"oozeschmay\")\n",
    "assert(Translate(\"a\") == \"ayay\")\n",
    "assert(Translate(\"Pig Latin\") == \"Error: Use only letters\")\n",
    "assert(Translate(\"Ke$ha\") == \"Error: Use only letters\") "
   ]
  },
  {
   "cell_type": "markdown",
   "metadata": {},
   "source": [
    "---\n",
    "\n",
    "## Problem 2.  Letter Frequencies.\n",
    "\n",
    "\n",
    "The files ```encryptedA.txt``` and ```encryptedB.txt``` contain two different encrypted messages on similar topics.  One message was originally in English and one was in Welsh.  \n",
    "\n",
    "<img src=\"https://upload.wikimedia.org/wikipedia/commons/thumb/d/d5/English_letter_frequency_%28alphabetic%29.svg/600px-English_letter_frequency_%28alphabetic%29.svg.png\" width=\"300\">\n",
    "\n",
    "\n",
    "### Problem 2(a).  Letter Frequencies.\n",
    "\n",
    "🎯 Write Python code that reads a text file into memory and creates a `dict` object with a frequency count for each letter.  For example, for ```encryptedA.txt```, your output should contain the key:value pairs ```'a': 78``` and ```'b': 31 ```.  \n",
    "\n",
    "###### Notes\n",
    "* Do not distinguish between uppercase and lowercase letters.\n",
    "* Ignore punctuation.  Punctuation counts must not appear in your `dict`\n",
    "* If a given letter does not appear in the text, there must be a key:value pair with value 0. \n",
    "\n",
    "🎯 Use Python to determine which letter has the highest frequency in each text file, and print the result."
   ]
  },
  {
   "cell_type": "code",
   "execution_count": 3,
   "metadata": {},
   "outputs": [
    {
     "name": "stdout",
     "output_type": "stream",
     "text": [
      "ADict:  {'v': 27, 'c': 88, 'b': 31, 'd': 28, 'w': 76, 'q': 41, 'a': 78, 'r': 114, 'x': 72, 'z': 16, 'u': 70, 'j': 36, 'm': 76, 'g': 78, 'k': 22, 'y': 40, 't': 19, 'l': 32, 'i': 7, 'f': 18} \n",
      " BDict:  {'k': 83, 'c': 40, 'n': 79, 'y': 90, 'd': 29, 'z': 61, 'x': 93, 'e': 28, 'q': 16, 'o': 48, 'u': 16, 'h': 48, 'p': 23, 's': 61, 'v': 122, 'g': 51, 't': 31, 'l': 11, 'w': 41, 'j': 19, 'i': 6, 'b': 3, 'a': 7, 'r': 2, 'f': 1}\n"
     ]
    }
   ],
   "source": [
    "# Open my text files\n",
    "with open(\"encryptedA.txt\") as encA:\n",
    "    encA = encA.read()\n",
    "with open(\"encryptedB.txt\") as encB:\n",
    "    encB = encB.read()  \n",
    "# Getting the hang of comprehensions, wow they're cool!\n",
    "ADict = {i:encA.count(i) for i in encA if i.isalpha()}\n",
    "BDict = {i:encB.count(i) for i in encB if i.isalpha()}\n",
    "print(\"ADict: \",ADict,'\\n',\"BDict: \",BDict)\n",
    "\n",
    "# The lack of order is bugging me, but from what I can tell Python dicts are unordered and I would need to import a\n",
    "# special library in order to order it. Is this correct?"
   ]
  },
  {
   "cell_type": "markdown",
   "metadata": {},
   "source": [
    "### Problem 2(b).  Formatting for R.\n",
    "\n",
    "🎯 Write your two dictionaries with frequency counts from 2(a) to a pair of suitably named `.csv` files, with one column for the key and one column for the frequency counted."
   ]
  },
  {
   "cell_type": "code",
   "execution_count": 4,
   "metadata": {},
   "outputs": [],
   "source": [
    "import csv\n",
    "\n",
    "with open(\"encryptedA.csv\", \"w\", newline=\"\") as encA:\n",
    "    writer = csv.writer(encA)\n",
    "    writer.writerows(ADict.items())\n",
    "with open(\"encryptedB.csv\", \"w\", newline=\"\") as encB:\n",
    "    writer = csv.writer(encB)\n",
    "    writer.writerows(BDict.items())"
   ]
  },
  {
   "cell_type": "code",
   "execution_count": null,
   "metadata": {},
   "outputs": [],
   "source": []
  }
 ],
 "metadata": {
  "anaconda-cloud": {},
  "kernelspec": {
   "display_name": "Python 3",
   "language": "python",
   "name": "python3"
  },
  "language_info": {
   "codemirror_mode": {
    "name": "ipython",
    "version": 3
   },
   "file_extension": ".py",
   "mimetype": "text/x-python",
   "name": "python",
   "nbconvert_exporter": "python",
   "pygments_lexer": "ipython3",
   "version": "3.6.5"
  }
 },
 "nbformat": 4,
 "nbformat_minor": 1
}
